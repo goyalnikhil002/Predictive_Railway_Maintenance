{
 "cells": [
  {
   "cell_type": "code",
   "execution_count": 3,
   "id": "bdf926bd",
   "metadata": {},
   "outputs": [
    {
     "name": "stdout",
     "output_type": "stream",
     "text": [
      "Requirement already satisfied: Flask in c:\\users\\owner\\anaconda3\\lib\\site-packages (2.2.2)\n",
      "Requirement already satisfied: itsdangerous>=2.0 in c:\\users\\owner\\anaconda3\\lib\\site-packages (from Flask) (2.0.1)\n",
      "Requirement already satisfied: click>=8.0 in c:\\users\\owner\\anaconda3\\lib\\site-packages (from Flask) (8.0.4)\n",
      "Requirement already satisfied: Jinja2>=3.0 in c:\\users\\owner\\anaconda3\\lib\\site-packages (from Flask) (3.1.2)\n",
      "Requirement already satisfied: Werkzeug>=2.2.2 in c:\\users\\owner\\anaconda3\\lib\\site-packages (from Flask) (2.2.2)\n",
      "Requirement already satisfied: colorama in c:\\users\\owner\\anaconda3\\lib\\site-packages (from click>=8.0->Flask) (0.4.6)\n",
      "Requirement already satisfied: MarkupSafe>=2.0 in c:\\users\\owner\\anaconda3\\lib\\site-packages (from Jinja2>=3.0->Flask) (2.1.1)\n",
      "Note: you may need to restart the kernel to use updated packages.\n"
     ]
    }
   ],
   "source": [
    "pip install Flask\n"
   ]
  },
  {
   "cell_type": "code",
   "execution_count": 12,
   "id": "7a67e592",
   "metadata": {},
   "outputs": [
    {
     "name": "stdout",
     "output_type": "stream",
     "text": [
      "Predictive Railway Maintenance Demo\n",
      "Enter the following information:\n",
      "Enter Component Type: engine\n",
      "Enter Component Age: 1\n",
      "Enter Maintenance Duration: 2\n",
      "Enter Temperature: 33\n",
      "Enter Vibration: 0.4\n",
      "Enter Pressure: 1015\n",
      "Enter Failure Causes: electrical faults\n",
      "Enter Humidity: 44\n",
      "Enter Rainfall: 7\n",
      "Enter Mean Time to Repair: 8\n"
     ]
    },
    {
     "ename": "TypeError",
     "evalue": "'LGBMRegressor' object is not subscriptable",
     "output_type": "error",
     "traceback": [
      "\u001b[1;31m---------------------------------------------------------------------------\u001b[0m",
      "\u001b[1;31mTypeError\u001b[0m                                 Traceback (most recent call last)",
      "Cell \u001b[1;32mIn[12], line 45\u001b[0m\n\u001b[0;32m     42\u001b[0m         value \u001b[38;5;241m=\u001b[39m \u001b[38;5;28mfloat\u001b[39m(\u001b[38;5;28minput\u001b[39m(\u001b[38;5;124mf\u001b[39m\u001b[38;5;124m\"\u001b[39m\u001b[38;5;124mEnter \u001b[39m\u001b[38;5;132;01m{\u001b[39;00mfeature\u001b[38;5;132;01m}\u001b[39;00m\u001b[38;5;124m: \u001b[39m\u001b[38;5;124m\"\u001b[39m))\n\u001b[0;32m     43\u001b[0m         user_input[feature] \u001b[38;5;241m=\u001b[39m value\n\u001b[1;32m---> 45\u001b[0m preprocessed_input \u001b[38;5;241m=\u001b[39m \u001b[43mpreprocess_input\u001b[49m\u001b[43m(\u001b[49m\u001b[43muser_input\u001b[49m\u001b[43m)\u001b[49m\n\u001b[0;32m     47\u001b[0m \u001b[38;5;28;01mif\u001b[39;00m \u001b[38;5;28mlen\u001b[39m(preprocessed_input) \u001b[38;5;241m==\u001b[39m \u001b[38;5;28mlen\u001b[39m(important_features):\n\u001b[0;32m     48\u001b[0m     result \u001b[38;5;241m=\u001b[39m predict(preprocessed_input)\n",
      "Cell \u001b[1;32mIn[12], line 24\u001b[0m, in \u001b[0;36mpreprocess_input\u001b[1;34m(input_data)\u001b[0m\n\u001b[0;32m     22\u001b[0m \u001b[38;5;28;01mfor\u001b[39;00m feature \u001b[38;5;129;01min\u001b[39;00m [\u001b[38;5;124m'\u001b[39m\u001b[38;5;124mComponent Type\u001b[39m\u001b[38;5;124m'\u001b[39m, \u001b[38;5;124m'\u001b[39m\u001b[38;5;124mFailure Causes\u001b[39m\u001b[38;5;124m'\u001b[39m]:\n\u001b[0;32m     23\u001b[0m     \u001b[38;5;28;01mif\u001b[39;00m feature \u001b[38;5;129;01min\u001b[39;00m input_data:\n\u001b[1;32m---> 24\u001b[0m         encoder \u001b[38;5;241m=\u001b[39m \u001b[43mlabel_encoders\u001b[49m\u001b[43m[\u001b[49m\u001b[43mfeature\u001b[49m\u001b[43m]\u001b[49m\n\u001b[0;32m     25\u001b[0m         relevant_input_data[important_features\u001b[38;5;241m.\u001b[39mindex(feature)] \u001b[38;5;241m=\u001b[39m encoder\u001b[38;5;241m.\u001b[39mtransform([input_data[feature]])[\u001b[38;5;241m0\u001b[39m]\n\u001b[0;32m     27\u001b[0m \u001b[38;5;28;01mreturn\u001b[39;00m relevant_input_data\n",
      "\u001b[1;31mTypeError\u001b[0m: 'LGBMRegressor' object is not subscriptable"
     ]
    }
   ],
   "source": [
    "import joblib\n",
    "from sklearn.preprocessing import LabelEncoder\n",
    "\n",
    "# Load your trained machine learning model\n",
    "model = joblib.load('lgb_model.pkl')\n",
    "\n",
    "# List of important features for input\n",
    "important_features = ['Component Type', 'Component Age', 'Maintenance Duration', 'Temperature', 'Vibration',\n",
    "                      'Pressure', 'Failure Causes', 'Humidity', 'Rainfall', 'Mean Time to Repair']\n",
    "\n",
    "# Get the indices of important features in the trained model\n",
    "important_feature_indices = [model.feature_name_.index(feature) for feature in important_features if feature in model.feature_name_]\n",
    "\n",
    "# Load label encoders for encoding categorical features\n",
    "label_encoders = joblib.load('lgb_model.pkl')\n",
    "\n",
    "def preprocess_input(input_data):\n",
    "    # Select only the relevant features based on the important_feature_indices\n",
    "    relevant_input_data = [input_data[feature] for feature in important_features if feature in input_data]\n",
    "\n",
    "    # Encode the 'Component Type' and 'Failure Causes' features using the loaded label encoders\n",
    "    for feature in ['Component Type', 'Failure Causes']:\n",
    "        if feature in input_data:\n",
    "            encoder = label_encoders[feature]\n",
    "            relevant_input_data[important_features.index(feature)] = encoder.transform([input_data[feature]])[0]\n",
    "    \n",
    "    return relevant_input_data\n",
    "\n",
    "def predict(input_data):\n",
    "    prediction = model.predict([input_data])[0]\n",
    "    return prediction\n",
    "\n",
    "if __name__ == \"__main__\":\n",
    "    print(\"Predictive Railway Maintenance Demo\")\n",
    "    print(\"Enter the following information:\")\n",
    "\n",
    "    user_input = {}\n",
    "    for feature in important_features:\n",
    "        if feature in ['Component Type', 'Failure Causes']:\n",
    "            user_input[feature] = input(f\"Enter {feature}: \")\n",
    "        else:\n",
    "            value = float(input(f\"Enter {feature}: \"))\n",
    "            user_input[feature] = value\n",
    "\n",
    "    preprocessed_input = preprocess_input(user_input)\n",
    "\n",
    "    if len(preprocessed_input) == len(important_features):\n",
    "        result = predict(preprocessed_input)\n",
    "        print(f\"The predicted result is: {result}\")\n",
    "    else:\n",
    "        print(\"Error: Please provide values for all important features.\")\n"
   ]
  },
  {
   "cell_type": "code",
   "execution_count": null,
   "id": "2773d598",
   "metadata": {},
   "outputs": [],
   "source": []
  }
 ],
 "metadata": {
  "kernelspec": {
   "display_name": "Python 3 (ipykernel)",
   "language": "python",
   "name": "python3"
  },
  "language_info": {
   "codemirror_mode": {
    "name": "ipython",
    "version": 3
   },
   "file_extension": ".py",
   "mimetype": "text/x-python",
   "name": "python",
   "nbconvert_exporter": "python",
   "pygments_lexer": "ipython3",
   "version": "3.10.9"
  }
 },
 "nbformat": 4,
 "nbformat_minor": 5
}
